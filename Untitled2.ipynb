{
 "cells": [
  {
   "cell_type": "code",
   "execution_count": 1,
   "metadata": {},
   "outputs": [
    {
     "name": "stdout",
     "output_type": "stream",
     "text": [
      "[1] 886.3037\n"
     ]
    },
    {
     "data": {
      "text/plain": [
       "\n",
       "Call:\n",
       "lm(formula = RCT_data$re78 ~ RCT_data$treat)\n",
       "\n",
       "Residuals:\n",
       "   Min     1Q Median     3Q    Max \n",
       " -5976  -5090  -1519   3361  54332 \n",
       "\n",
       "Coefficients:\n",
       "               Estimate Std. Error t value Pr(>|t|)    \n",
       "(Intercept)      5090.0      302.8  16.811   <2e-16 ***\n",
       "RCT_data$treat    886.3      472.1   1.877   0.0609 .  \n",
       "---\n",
       "Signif. codes:  0 ‘***’ 0.001 ‘**’ 0.01 ‘*’ 0.05 ‘.’ 0.1 ‘ ’ 1\n",
       "\n",
       "Residual standard error: 6242 on 720 degrees of freedom\n",
       "Multiple R-squared:  0.004872,\tAdjusted R-squared:  0.003489 \n",
       "F-statistic: 3.525 on 1 and 720 DF,  p-value: 0.06086\n"
      ]
     },
     "metadata": {},
     "output_type": "display_data"
    },
    {
     "data": {
      "text/html": [
       "<table>\n",
       "<thead><tr><th></th><th scope=col>2.5 %</th><th scope=col>97.5 %</th></tr></thead>\n",
       "<tbody>\n",
       "\t<tr><th scope=row>(Intercept)</th><td>4495.60595</td><td>5684.491  </td></tr>\n",
       "\t<tr><th scope=row>RCT_data$treat</th><td> -40.52635</td><td>1813.134  </td></tr>\n",
       "</tbody>\n",
       "</table>\n"
      ],
      "text/latex": [
       "\\begin{tabular}{r|ll}\n",
       "  & 2.5 \\% & 97.5 \\%\\\\\n",
       "\\hline\n",
       "\t(Intercept) & 4495.60595 & 5684.491  \\\\\n",
       "\tRCT\\_data\\$treat &  -40.52635 & 1813.134  \\\\\n",
       "\\end{tabular}\n"
      ],
      "text/markdown": [
       "\n",
       "| <!--/--> | 2.5 % | 97.5 % | \n",
       "|---|---|\n",
       "| (Intercept) | 4495.60595 | 5684.491   | \n",
       "| RCT_data$treat |  -40.52635 | 1813.134   | \n",
       "\n",
       "\n"
      ],
      "text/plain": [
       "               2.5 %      97.5 %  \n",
       "(Intercept)    4495.60595 5684.491\n",
       "RCT_data$treat  -40.52635 1813.134"
      ]
     },
     "metadata": {},
     "output_type": "display_data"
    }
   ],
   "source": [
    "library(foreign)\n",
    "\n",
    "RCT_data <- read.dta(\"http://www.nber.org/~rdehejia/data/nsw.dta\")\n",
    "\n",
    "RCT_diffmeans <- \tmean(RCT_data$re78[RCT_data$treat == 1]) - \n",
    "mean(RCT_data$re78[RCT_data$treat == 0])\n",
    "print(RCT_diffmeans)\n",
    "summary(lm(RCT_data$re78 ~ RCT_data$treat)) # note the coef on “treat”\n",
    "confint(lm(RCT_data$re78 ~ RCT_data$treat)) # note the confint on “treat”"
   ]
  },
  {
   "cell_type": "code",
   "execution_count": 2,
   "metadata": {},
   "outputs": [
    {
     "name": "stderr",
     "output_type": "stream",
     "text": [
      "Warning message in file(file, \"rt\"):\n",
      "“cannot open file 'dw_data.csv': No such file or directory”"
     ]
    },
    {
     "ename": "ERROR",
     "evalue": "Error in file(file, \"rt\"): cannot open the connection\n",
     "output_type": "error",
     "traceback": [
      "Error in file(file, \"rt\"): cannot open the connection\nTraceback:\n",
      "1. read.csv(\"dw_data.csv\")",
      "2. read.table(file = file, header = header, sep = sep, quote = quote, \n .     dec = dec, fill = fill, comment.char = comment.char, ...)",
      "3. file(file, \"rt\")"
     ]
    }
   ],
   "source": [
    "foo <- read.csv(\"dw_data.csv\")\n",
    "dim(foo)"
   ]
  },
  {
   "cell_type": "code",
   "execution_count": null,
   "metadata": {},
   "outputs": [],
   "source": []
  }
 ],
 "metadata": {
  "kernelspec": {
   "display_name": "R",
   "language": "R",
   "name": "ir"
  },
  "language_info": {
   "codemirror_mode": "r",
   "file_extension": ".r",
   "mimetype": "text/x-r-source",
   "name": "R",
   "pygments_lexer": "r",
   "version": "3.5.1"
  }
 },
 "nbformat": 4,
 "nbformat_minor": 2
}
