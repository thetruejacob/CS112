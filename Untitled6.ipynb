{
 "cells": [
  {
   "cell_type": "code",
   "execution_count": 2,
   "metadata": {},
   "outputs": [],
   "source": [
    "df = read.csv(\"~/Downloads/Investors day data - eventbrite export 041118 .csv\", stringsAsFactors = FALSE)\n",
    "investors = read.csv(\"~/Downloads/Clean Investors Day Data - Investors(2).csv\", stringsAsFactors = FALSE)\n",
    "startups = df[df$Ticket.Type == \"Startup\", c(9, 11, 12, 13, 14, 15, 16, 17, 18)]\n",
    "startups = startups[grep(\"Getting investment\", startups$What.are.you.interested.in.), ]"
   ]
  },
  {
   "cell_type": "code",
   "execution_count": 3,
   "metadata": {},
   "outputs": [],
   "source": [
    "startuplist = lapply(gsub(\" \", \"\", startups$What.is.your.field.),function(y){strsplit(as.character(y), fixed = TRUE, \"|\")})\n",
    "investorlist = lapply(gsub(\" \", \"\", investors$Field.of.interest),function(y){strsplit(as.character(y), fixed = TRUE, \"|\")})\n",
    "\n",
    "startupdf = data.frame(matrix(0, ncol = length(unique(unlist(startuplist))), nrow = nrow(startups)))\n",
    "investordf = data.frame(matrix(0, ncol = length(unique(unlist(startuplist))), nrow = nrow(investors)))\n",
    "colnames(startupdf) = unique(unlist(startuplist)); colnames(investordf) = unique(unlist(startuplist))\n",
    "\n",
    "for (i in 1:length(startuplist)){for (j in 1:length(startuplist[[i]][[1]])){startupdf[i, startuplist [[i]][[1]][j]] = 1}}\n",
    "for (i in 1:length(investorlist)){for (j in 1:length(investorlist[[i]][[1]])){investordf[i, investorlist[[i]][[1]][[j]]] = 1}}"
   ]
  },
  {
   "cell_type": "code",
   "execution_count": 12,
   "metadata": {},
   "outputs": [],
   "source": [
    "listofrankings = list()\n",
    "\n",
    "for (i in 1:nrow(investordf)){\n",
    "  relevant = startupdf[, as.numeric(investordf[i,1:48 ]) == 1]\n",
    "  x = matrix(unlist(sort(rowSums(scale(center = FALSE, relevant)), \n",
    "                         decreasing = TRUE, index.return = 1)), nrow = nrow(startups))\n",
    "  x = data.frame(x[,1], startups[x[,2], c(1,3,5,8)])\n",
    "  names(x)[1:2] = c(\"Score\", \"Matched Startup\")\n",
    "  listofrankings[[i]] = x\n",
    "}\n",
    "\n",
    "matches = gs_new(title = \"Investor Matches\")\n",
    "for (i in 1:length(listofrankings)){\n",
    "  matches = matches %>% \n",
    "    gs_ws_new(ws_title = ifelse(nchar(investors[i,1]) <= 30, investors[i,1], substr(investors[i,1], 1, 30)), \n",
    "              input = listofrankings[[i]],trim = TRUE, verbose = FALSE)}"
   ]
  }
 ],
 "metadata": {
  "kernelspec": {
   "display_name": "R",
   "language": "R",
   "name": "ir"
  },
  "language_info": {
   "codemirror_mode": "r",
   "file_extension": ".r",
   "mimetype": "text/x-r-source",
   "name": "R",
   "pygments_lexer": "r",
   "version": "3.5.1"
  }
 },
 "nbformat": 4,
 "nbformat_minor": 2
}
