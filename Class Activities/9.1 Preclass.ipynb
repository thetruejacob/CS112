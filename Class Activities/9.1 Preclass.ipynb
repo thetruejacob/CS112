{
 "cells": [
  {
   "cell_type": "markdown",
   "metadata": {},
   "source": [
    "## PART 1: Get the 2 RCT data sets...\n",
    "website with data is here: http://users.nber.org/~rdehejia/data/nswdata2.html\n",
    "\n",
    "### For the original Lalonde data\n",
    "- STEP 1: Download the two text files, nsw_control.txt and nsw_treated.txt\n",
    "- STEP 2: Ensure that they are in R's working directory\n",
    "- STEP 3: Read them into your R workspace\n",
    "- STEP 4: Bind the treated and controls together, into one data frame"
   ]
  },
  {
   "cell_type": "code",
   "execution_count": 3,
   "metadata": {},
   "outputs": [
    {
     "data": {
      "text/html": [
       "<table>\n",
       "<thead><tr><th scope=col>data_id</th><th scope=col>treat</th><th scope=col>age</th><th scope=col>educ</th><th scope=col>black</th><th scope=col>hisp</th><th scope=col>married</th><th scope=col>nodegr</th><th scope=col>re75</th><th scope=col>re78</th></tr></thead>\n",
       "<tbody>\n",
       "\t<tr><td>Original Lalonde Sample</td><td>1                      </td><td>37                     </td><td>11                     </td><td>1                      </td><td>0                      </td><td>1                      </td><td>1                      </td><td>0                      </td><td> 9930.0460             </td></tr>\n",
       "\t<tr><td>Original Lalonde Sample</td><td>1                      </td><td>22                     </td><td> 9                     </td><td>0                      </td><td>1                      </td><td>0                      </td><td>1                      </td><td>0                      </td><td> 3595.8940             </td></tr>\n",
       "\t<tr><td>Original Lalonde Sample</td><td>1                      </td><td>30                     </td><td>12                     </td><td>1                      </td><td>0                      </td><td>0                      </td><td>0                      </td><td>0                      </td><td>24909.4500             </td></tr>\n",
       "\t<tr><td>Original Lalonde Sample</td><td>1                      </td><td>27                     </td><td>11                     </td><td>1                      </td><td>0                      </td><td>0                      </td><td>1                      </td><td>0                      </td><td> 7506.1460             </td></tr>\n",
       "\t<tr><td>Original Lalonde Sample</td><td>1                      </td><td>33                     </td><td> 8                     </td><td>1                      </td><td>0                      </td><td>0                      </td><td>1                      </td><td>0                      </td><td>  289.7899             </td></tr>\n",
       "\t<tr><td>Original Lalonde Sample</td><td>1                      </td><td>22                     </td><td> 9                     </td><td>1                      </td><td>0                      </td><td>0                      </td><td>1                      </td><td>0                      </td><td> 4056.4940             </td></tr>\n",
       "</tbody>\n",
       "</table>\n"
      ],
      "text/latex": [
       "\\begin{tabular}{r|llllllllll}\n",
       " data\\_id & treat & age & educ & black & hisp & married & nodegr & re75 & re78\\\\\n",
       "\\hline\n",
       "\t Original Lalonde Sample & 1                       & 37                      & 11                      & 1                       & 0                       & 1                       & 1                       & 0                       &  9930.0460             \\\\\n",
       "\t Original Lalonde Sample & 1                       & 22                      &  9                      & 0                       & 1                       & 0                       & 1                       & 0                       &  3595.8940             \\\\\n",
       "\t Original Lalonde Sample & 1                       & 30                      & 12                      & 1                       & 0                       & 0                       & 0                       & 0                       & 24909.4500             \\\\\n",
       "\t Original Lalonde Sample & 1                       & 27                      & 11                      & 1                       & 0                       & 0                       & 1                       & 0                       &  7506.1460             \\\\\n",
       "\t Original Lalonde Sample & 1                       & 33                      &  8                      & 1                       & 0                       & 0                       & 1                       & 0                       &   289.7899             \\\\\n",
       "\t Original Lalonde Sample & 1                       & 22                      &  9                      & 1                       & 0                       & 0                       & 1                       & 0                       &  4056.4940             \\\\\n",
       "\\end{tabular}\n"
      ],
      "text/markdown": [
       "\n",
       "data_id | treat | age | educ | black | hisp | married | nodegr | re75 | re78 | \n",
       "|---|---|---|---|---|---|\n",
       "| Original Lalonde Sample | 1                       | 37                      | 11                      | 1                       | 0                       | 1                       | 1                       | 0                       |  9930.0460              | \n",
       "| Original Lalonde Sample | 1                       | 22                      |  9                      | 0                       | 1                       | 0                       | 1                       | 0                       |  3595.8940              | \n",
       "| Original Lalonde Sample | 1                       | 30                      | 12                      | 1                       | 0                       | 0                       | 0                       | 0                       | 24909.4500              | \n",
       "| Original Lalonde Sample | 1                       | 27                      | 11                      | 1                       | 0                       | 0                       | 1                       | 0                       |  7506.1460              | \n",
       "| Original Lalonde Sample | 1                       | 33                      |  8                      | 1                       | 0                       | 0                       | 1                       | 0                       |   289.7899              | \n",
       "| Original Lalonde Sample | 1                       | 22                      |  9                      | 1                       | 0                       | 0                       | 1                       | 0                       |  4056.4940              | \n",
       "\n",
       "\n"
      ],
      "text/plain": [
       "  data_id                 treat age educ black hisp married nodegr re75\n",
       "1 Original Lalonde Sample 1     37  11   1     0    1       1      0   \n",
       "2 Original Lalonde Sample 1     22   9   0     1    0       1      0   \n",
       "3 Original Lalonde Sample 1     30  12   1     0    0       0      0   \n",
       "4 Original Lalonde Sample 1     27  11   1     0    0       1      0   \n",
       "5 Original Lalonde Sample 1     33   8   1     0    0       1      0   \n",
       "6 Original Lalonde Sample 1     22   9   1     0    0       1      0   \n",
       "  re78      \n",
       "1  9930.0460\n",
       "2  3595.8940\n",
       "3 24909.4500\n",
       "4  7506.1460\n",
       "5   289.7899\n",
       "6  4056.4940"
      ]
     },
     "metadata": {},
     "output_type": "display_data"
    }
   ],
   "source": [
    "nsw_treated = read.table(\"https://users.nber.org/~rdehejia/data/nsw_treated.txt\")\n",
    "nsw_controls = read.table(\"https://users.nber.org/~rdehejia/data/nsw_control.txt\")\n",
    "\n",
    "nsw_data <- rbind(nsw_treated, nsw_controls)\n",
    "additional_column_to_label_data_set <- rep(c(\"Original Lalonde Sample\"), length(nsw_data[,1]))\n",
    "nsw_data <- cbind(additional_column_to_label_data_set, nsw_data)\n",
    "names(nsw_data) <-  c(\"data_id\", \"treat\", \"age\", \"educ\", \"black\", \"hisp\",\n",
    "\"married\", \"nodegr\", \"re75\", \"re78\")\n",
    "head(nsw_data)"
   ]
  },
  {
   "cell_type": "code",
   "execution_count": 12,
   "metadata": {},
   "outputs": [
    {
     "data": {
      "text/html": [
       "<table>\n",
       "<thead><tr><th scope=col>data_id</th><th scope=col>treat</th><th scope=col>age</th><th scope=col>education</th><th scope=col>black</th><th scope=col>hispanic</th><th scope=col>married</th><th scope=col>nodegree</th><th scope=col>re74</th><th scope=col>re75</th><th scope=col>re78</th></tr></thead>\n",
       "<tbody>\n",
       "\t<tr><td>Dehejia-Wahba Sample</td><td>1                   </td><td>37                  </td><td>11                  </td><td>1                   </td><td>0                   </td><td>1                   </td><td>1                   </td><td>0                   </td><td>0                   </td><td> 9930.0459          </td></tr>\n",
       "\t<tr><td>Dehejia-Wahba Sample</td><td>1                   </td><td>22                  </td><td> 9                  </td><td>0                   </td><td>1                   </td><td>0                   </td><td>1                   </td><td>0                   </td><td>0                   </td><td> 3595.8940          </td></tr>\n",
       "\t<tr><td>Dehejia-Wahba Sample</td><td>1                   </td><td>30                  </td><td>12                  </td><td>1                   </td><td>0                   </td><td>0                   </td><td>0                   </td><td>0                   </td><td>0                   </td><td>24909.4492          </td></tr>\n",
       "\t<tr><td>Dehejia-Wahba Sample</td><td>1                   </td><td>27                  </td><td>11                  </td><td>1                   </td><td>0                   </td><td>0                   </td><td>1                   </td><td>0                   </td><td>0                   </td><td> 7506.1460          </td></tr>\n",
       "\t<tr><td>Dehejia-Wahba Sample</td><td>1                   </td><td>33                  </td><td> 8                  </td><td>1                   </td><td>0                   </td><td>0                   </td><td>1                   </td><td>0                   </td><td>0                   </td><td>  289.7899          </td></tr>\n",
       "\t<tr><td>Dehejia-Wahba Sample</td><td>1                   </td><td>22                  </td><td> 9                  </td><td>1                   </td><td>0                   </td><td>0                   </td><td>1                   </td><td>0                   </td><td>0                   </td><td> 4056.4939          </td></tr>\n",
       "</tbody>\n",
       "</table>\n"
      ],
      "text/latex": [
       "\\begin{tabular}{r|lllllllllll}\n",
       " data\\_id & treat & age & education & black & hispanic & married & nodegree & re74 & re75 & re78\\\\\n",
       "\\hline\n",
       "\t Dehejia-Wahba Sample & 1                    & 37                   & 11                   & 1                    & 0                    & 1                    & 1                    & 0                    & 0                    &  9930.0459          \\\\\n",
       "\t Dehejia-Wahba Sample & 1                    & 22                   &  9                   & 0                    & 1                    & 0                    & 1                    & 0                    & 0                    &  3595.8940          \\\\\n",
       "\t Dehejia-Wahba Sample & 1                    & 30                   & 12                   & 1                    & 0                    & 0                    & 0                    & 0                    & 0                    & 24909.4492          \\\\\n",
       "\t Dehejia-Wahba Sample & 1                    & 27                   & 11                   & 1                    & 0                    & 0                    & 1                    & 0                    & 0                    &  7506.1460          \\\\\n",
       "\t Dehejia-Wahba Sample & 1                    & 33                   &  8                   & 1                    & 0                    & 0                    & 1                    & 0                    & 0                    &   289.7899          \\\\\n",
       "\t Dehejia-Wahba Sample & 1                    & 22                   &  9                   & 1                    & 0                    & 0                    & 1                    & 0                    & 0                    &  4056.4939          \\\\\n",
       "\\end{tabular}\n"
      ],
      "text/markdown": [
       "\n",
       "data_id | treat | age | education | black | hispanic | married | nodegree | re74 | re75 | re78 | \n",
       "|---|---|---|---|---|---|\n",
       "| Dehejia-Wahba Sample | 1                    | 37                   | 11                   | 1                    | 0                    | 1                    | 1                    | 0                    | 0                    |  9930.0459           | \n",
       "| Dehejia-Wahba Sample | 1                    | 22                   |  9                   | 0                    | 1                    | 0                    | 1                    | 0                    | 0                    |  3595.8940           | \n",
       "| Dehejia-Wahba Sample | 1                    | 30                   | 12                   | 1                    | 0                    | 0                    | 0                    | 0                    | 0                    | 24909.4492           | \n",
       "| Dehejia-Wahba Sample | 1                    | 27                   | 11                   | 1                    | 0                    | 0                    | 1                    | 0                    | 0                    |  7506.1460           | \n",
       "| Dehejia-Wahba Sample | 1                    | 33                   |  8                   | 1                    | 0                    | 0                    | 1                    | 0                    | 0                    |   289.7899           | \n",
       "| Dehejia-Wahba Sample | 1                    | 22                   |  9                   | 1                    | 0                    | 0                    | 1                    | 0                    | 0                    |  4056.4939           | \n",
       "\n",
       "\n"
      ],
      "text/plain": [
       "  data_id              treat age education black hispanic married nodegree re74\n",
       "1 Dehejia-Wahba Sample 1     37  11        1     0        1       1        0   \n",
       "2 Dehejia-Wahba Sample 1     22   9        0     1        0       1        0   \n",
       "3 Dehejia-Wahba Sample 1     30  12        1     0        0       0        0   \n",
       "4 Dehejia-Wahba Sample 1     27  11        1     0        0       1        0   \n",
       "5 Dehejia-Wahba Sample 1     33   8        1     0        0       1        0   \n",
       "6 Dehejia-Wahba Sample 1     22   9        1     0        0       1        0   \n",
       "  re75 re78      \n",
       "1 0     9930.0459\n",
       "2 0     3595.8940\n",
       "3 0    24909.4492\n",
       "4 0     7506.1460\n",
       "5 0      289.7899\n",
       "6 0     4056.4939"
      ]
     },
     "metadata": {},
     "output_type": "display_data"
    }
   ],
   "source": [
    "library(foreign)\n",
    "DW_data <- read.dta(\"nsw_dw.dta\")\n",
    "head(DW_data)"
   ]
  },
  {
   "cell_type": "markdown",
   "metadata": {},
   "source": [
    "# PART II: CREATE THE FAKE OBSERVATIONAL DATA SETS\n",
    "\n",
    "Now to create the 2 simulated observational data sets that each combine the\n",
    "treatment group from the data sets above, with CPS-1 survey data\n",
    "\n",
    "A. ### First with the original Lalonde RCT sample"
   ]
  },
  {
   "cell_type": "code",
   "execution_count": 13,
   "metadata": {},
   "outputs": [
    {
     "data": {
      "text/html": [
       "<table>\n",
       "<thead><tr><th scope=col>data_id</th><th scope=col>treat</th><th scope=col>age</th><th scope=col>education</th><th scope=col>black</th><th scope=col>hispanic</th><th scope=col>married</th><th scope=col>nodegree</th><th scope=col>re74</th><th scope=col>re75</th><th scope=col>re78</th></tr></thead>\n",
       "<tbody>\n",
       "\t<tr><td>CPS1     </td><td>0        </td><td>45       </td><td>11       </td><td>0        </td><td>0        </td><td>1        </td><td>1        </td><td>21516.670</td><td>25243.551</td><td>25564.670</td></tr>\n",
       "\t<tr><td>CPS1     </td><td>0        </td><td>21       </td><td>14       </td><td>0        </td><td>0        </td><td>0        </td><td>0        </td><td> 3175.971</td><td> 5852.565</td><td>13496.080</td></tr>\n",
       "\t<tr><td>CPS1     </td><td>0        </td><td>38       </td><td>12       </td><td>0        </td><td>0        </td><td>1        </td><td>0        </td><td>23039.020</td><td>25130.760</td><td>25564.670</td></tr>\n",
       "\t<tr><td>CPS1     </td><td>0        </td><td>48       </td><td> 6       </td><td>0        </td><td>0        </td><td>1        </td><td>1        </td><td>24994.369</td><td>25243.551</td><td>25564.670</td></tr>\n",
       "\t<tr><td>CPS1     </td><td>0        </td><td>18       </td><td> 8       </td><td>0        </td><td>0        </td><td>1        </td><td>1        </td><td> 1669.295</td><td>10727.610</td><td> 9860.869</td></tr>\n",
       "\t<tr><td>CPS1     </td><td>0        </td><td>22       </td><td>11       </td><td>0        </td><td>0        </td><td>1        </td><td>1        </td><td>16365.760</td><td>18449.270</td><td>25564.670</td></tr>\n",
       "</tbody>\n",
       "</table>\n"
      ],
      "text/latex": [
       "\\begin{tabular}{r|lllllllllll}\n",
       " data\\_id & treat & age & education & black & hispanic & married & nodegree & re74 & re75 & re78\\\\\n",
       "\\hline\n",
       "\t CPS1      & 0         & 45        & 11        & 0         & 0         & 1         & 1         & 21516.670 & 25243.551 & 25564.670\\\\\n",
       "\t CPS1      & 0         & 21        & 14        & 0         & 0         & 0         & 0         &  3175.971 &  5852.565 & 13496.080\\\\\n",
       "\t CPS1      & 0         & 38        & 12        & 0         & 0         & 1         & 0         & 23039.020 & 25130.760 & 25564.670\\\\\n",
       "\t CPS1      & 0         & 48        &  6        & 0         & 0         & 1         & 1         & 24994.369 & 25243.551 & 25564.670\\\\\n",
       "\t CPS1      & 0         & 18        &  8        & 0         & 0         & 1         & 1         &  1669.295 & 10727.610 &  9860.869\\\\\n",
       "\t CPS1      & 0         & 22        & 11        & 0         & 0         & 1         & 1         & 16365.760 & 18449.270 & 25564.670\\\\\n",
       "\\end{tabular}\n"
      ],
      "text/markdown": [
       "\n",
       "data_id | treat | age | education | black | hispanic | married | nodegree | re74 | re75 | re78 | \n",
       "|---|---|---|---|---|---|\n",
       "| CPS1      | 0         | 45        | 11        | 0         | 0         | 1         | 1         | 21516.670 | 25243.551 | 25564.670 | \n",
       "| CPS1      | 0         | 21        | 14        | 0         | 0         | 0         | 0         |  3175.971 |  5852.565 | 13496.080 | \n",
       "| CPS1      | 0         | 38        | 12        | 0         | 0         | 1         | 0         | 23039.020 | 25130.760 | 25564.670 | \n",
       "| CPS1      | 0         | 48        |  6        | 0         | 0         | 1         | 1         | 24994.369 | 25243.551 | 25564.670 | \n",
       "| CPS1      | 0         | 18        |  8        | 0         | 0         | 1         | 1         |  1669.295 | 10727.610 |  9860.869 | \n",
       "| CPS1      | 0         | 22        | 11        | 0         | 0         | 1         | 1         | 16365.760 | 18449.270 | 25564.670 | \n",
       "\n",
       "\n"
      ],
      "text/plain": [
       "  data_id treat age education black hispanic married nodegree re74     \n",
       "1 CPS1    0     45  11        0     0        1       1        21516.670\n",
       "2 CPS1    0     21  14        0     0        0       0         3175.971\n",
       "3 CPS1    0     38  12        0     0        1       0        23039.020\n",
       "4 CPS1    0     48   6        0     0        1       1        24994.369\n",
       "5 CPS1    0     18   8        0     0        1       1         1669.295\n",
       "6 CPS1    0     22  11        0     0        1       1        16365.760\n",
       "  re75      re78     \n",
       "1 25243.551 25564.670\n",
       "2  5852.565 13496.080\n",
       "3 25130.760 25564.670\n",
       "4 25243.551 25564.670\n",
       "5 10727.610  9860.869\n",
       "6 18449.270 25564.670"
      ]
     },
     "metadata": {},
     "output_type": "display_data"
    }
   ],
   "source": [
    "cps_controls <- read.dta(\"cps_controls.dta\")\n",
    "head(cps_controls)\n",
    "\n",
    "cps_controls_without_re74 <- cps_controls[,-9]\n",
    "names(cps_controls_without_re74) <- names(nsw_data)"
   ]
  },
  {
   "cell_type": "code",
   "execution_count": 15,
   "metadata": {},
   "outputs": [],
   "source": [
    "nsw_data_nocontrols <- nsw_data[-which(nsw_data$treat == 0),]\n",
    "nsw_treated_data_with_CPS <- rbind(nsw_data_nocontrols, cps_controls_without_re74)"
   ]
  },
  {
   "cell_type": "markdown",
   "metadata": {},
   "source": [
    "B. Second with Dehejia's experimental sample, which includes re74... \n",
    "in other words, 2 years of pre-treatment earnings -- Dehejia thought it was necessary\n",
    " to control for more than 1 year of pre-treatment earnings..."
   ]
  },
  {
   "cell_type": "code",
   "execution_count": 16,
   "metadata": {},
   "outputs": [
    {
     "data": {
      "text/html": [
       "<table>\n",
       "<thead><tr><th scope=col>data_id</th><th scope=col>treat</th><th scope=col>age</th><th scope=col>education</th><th scope=col>black</th><th scope=col>hispanic</th><th scope=col>married</th><th scope=col>nodegree</th><th scope=col>re74</th><th scope=col>re75</th><th scope=col>re78</th></tr></thead>\n",
       "<tbody>\n",
       "\t<tr><td>CPS1     </td><td>0        </td><td>45       </td><td>11       </td><td>0        </td><td>0        </td><td>1        </td><td>1        </td><td>21516.670</td><td>25243.551</td><td>25564.670</td></tr>\n",
       "\t<tr><td>CPS1     </td><td>0        </td><td>21       </td><td>14       </td><td>0        </td><td>0        </td><td>0        </td><td>0        </td><td> 3175.971</td><td> 5852.565</td><td>13496.080</td></tr>\n",
       "\t<tr><td>CPS1     </td><td>0        </td><td>38       </td><td>12       </td><td>0        </td><td>0        </td><td>1        </td><td>0        </td><td>23039.020</td><td>25130.760</td><td>25564.670</td></tr>\n",
       "\t<tr><td>CPS1     </td><td>0        </td><td>48       </td><td> 6       </td><td>0        </td><td>0        </td><td>1        </td><td>1        </td><td>24994.369</td><td>25243.551</td><td>25564.670</td></tr>\n",
       "\t<tr><td>CPS1     </td><td>0        </td><td>18       </td><td> 8       </td><td>0        </td><td>0        </td><td>1        </td><td>1        </td><td> 1669.295</td><td>10727.610</td><td> 9860.869</td></tr>\n",
       "\t<tr><td>CPS1     </td><td>0        </td><td>22       </td><td>11       </td><td>0        </td><td>0        </td><td>1        </td><td>1        </td><td>16365.760</td><td>18449.270</td><td>25564.670</td></tr>\n",
       "</tbody>\n",
       "</table>\n"
      ],
      "text/latex": [
       "\\begin{tabular}{r|lllllllllll}\n",
       " data\\_id & treat & age & education & black & hispanic & married & nodegree & re74 & re75 & re78\\\\\n",
       "\\hline\n",
       "\t CPS1      & 0         & 45        & 11        & 0         & 0         & 1         & 1         & 21516.670 & 25243.551 & 25564.670\\\\\n",
       "\t CPS1      & 0         & 21        & 14        & 0         & 0         & 0         & 0         &  3175.971 &  5852.565 & 13496.080\\\\\n",
       "\t CPS1      & 0         & 38        & 12        & 0         & 0         & 1         & 0         & 23039.020 & 25130.760 & 25564.670\\\\\n",
       "\t CPS1      & 0         & 48        &  6        & 0         & 0         & 1         & 1         & 24994.369 & 25243.551 & 25564.670\\\\\n",
       "\t CPS1      & 0         & 18        &  8        & 0         & 0         & 1         & 1         &  1669.295 & 10727.610 &  9860.869\\\\\n",
       "\t CPS1      & 0         & 22        & 11        & 0         & 0         & 1         & 1         & 16365.760 & 18449.270 & 25564.670\\\\\n",
       "\\end{tabular}\n"
      ],
      "text/markdown": [
       "\n",
       "data_id | treat | age | education | black | hispanic | married | nodegree | re74 | re75 | re78 | \n",
       "|---|---|---|---|---|---|\n",
       "| CPS1      | 0         | 45        | 11        | 0         | 0         | 1         | 1         | 21516.670 | 25243.551 | 25564.670 | \n",
       "| CPS1      | 0         | 21        | 14        | 0         | 0         | 0         | 0         |  3175.971 |  5852.565 | 13496.080 | \n",
       "| CPS1      | 0         | 38        | 12        | 0         | 0         | 1         | 0         | 23039.020 | 25130.760 | 25564.670 | \n",
       "| CPS1      | 0         | 48        |  6        | 0         | 0         | 1         | 1         | 24994.369 | 25243.551 | 25564.670 | \n",
       "| CPS1      | 0         | 18        |  8        | 0         | 0         | 1         | 1         |  1669.295 | 10727.610 |  9860.869 | \n",
       "| CPS1      | 0         | 22        | 11        | 0         | 0         | 1         | 1         | 16365.760 | 18449.270 | 25564.670 | \n",
       "\n",
       "\n"
      ],
      "text/plain": [
       "  data_id treat age education black hispanic married nodegree re74     \n",
       "1 CPS1    0     45  11        0     0        1       1        21516.670\n",
       "2 CPS1    0     21  14        0     0        0       0         3175.971\n",
       "3 CPS1    0     38  12        0     0        1       0        23039.020\n",
       "4 CPS1    0     48   6        0     0        1       1        24994.369\n",
       "5 CPS1    0     18   8        0     0        1       1         1669.295\n",
       "6 CPS1    0     22  11        0     0        1       1        16365.760\n",
       "  re75      re78     \n",
       "1 25243.551 25564.670\n",
       "2  5852.565 13496.080\n",
       "3 25130.760 25564.670\n",
       "4 25243.551 25564.670\n",
       "5 10727.610  9860.869\n",
       "6 18449.270 25564.670"
      ]
     },
     "metadata": {},
     "output_type": "display_data"
    }
   ],
   "source": [
    "cps_controls <- read.dta(\"cps_controls.dta\")\n",
    "head(cps_controls)\n"
   ]
  },
  {
   "cell_type": "code",
   "execution_count": 17,
   "metadata": {},
   "outputs": [],
   "source": [
    "cps_controls_new_names <- cps_controls\n",
    "names(cps_controls_new_names) <- names(DW_data)"
   ]
  },
  {
   "cell_type": "code",
   "execution_count": 18,
   "metadata": {},
   "outputs": [],
   "source": [
    "DW_data_nocontrols <- DW_data[-which(DW_data$treat == 0),]"
   ]
  },
  {
   "cell_type": "code",
   "execution_count": 19,
   "metadata": {},
   "outputs": [],
   "source": [
    "DW_treated_data_with_CPS <- rbind(DW_data_nocontrols, cps_controls_new_names)"
   ]
  }
 ],
 "metadata": {
  "kernelspec": {
   "display_name": "R",
   "language": "R",
   "name": "ir"
  },
  "language_info": {
   "codemirror_mode": "r",
   "file_extension": ".r",
   "mimetype": "text/x-r-source",
   "name": "R",
   "pygments_lexer": "r",
   "version": "3.5.1"
  }
 },
 "nbformat": 4,
 "nbformat_minor": 2
}
