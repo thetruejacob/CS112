{
 "cells": [
  {
   "cell_type": "markdown",
   "metadata": {},
   "source": [
    "What is the aggregate purchase rate per person for members vs. non-members, pooling together the three age groups?"
   ]
  },
  {
   "cell_type": "code",
   "execution_count": 18,
   "metadata": {},
   "outputs": [
    {
     "data": {
      "text/html": [
       "<table>\n",
       "<tbody>\n",
       "\t<tr><td>0.09772727</td><td>0.0984127 </td></tr>\n",
       "</tbody>\n",
       "</table>\n"
      ],
      "text/latex": [
       "\\begin{tabular}{ll}\n",
       "\t 0.09772727 & 0.0984127 \\\\\n",
       "\\end{tabular}\n"
      ],
      "text/markdown": [
       "\n",
       "| 0.09772727 | 0.0984127  | \n",
       "\n",
       "\n"
      ],
      "text/plain": [
       "     [,1]       [,2]     \n",
       "[1,] 0.09772727 0.0984127"
      ]
     },
     "metadata": {},
     "output_type": "display_data"
    }
   ],
   "source": [
    "cbind(86/880, 124/1260)"
   ]
  },
  {
   "cell_type": "markdown",
   "metadata": {},
   "source": [
    "Normality cannot be assumed, and so I will use the wilcoxon signed-rank ta"
   ]
  },
  {
   "cell_type": "code",
   "execution_count": 15,
   "metadata": {},
   "outputs": [
    {
     "data": {
      "text/html": [
       "<table>\n",
       "<thead><tr><th></th><th scope=col>Diamond Members</th><th scope=col>Diamond non-members</th></tr></thead>\n",
       "<tbody>\n",
       "\t<tr><th scope=row>31-40</th><td>0.04545455</td><td>0.04365079</td></tr>\n",
       "\t<tr><th scope=row>41-50</th><td>0.09740260</td><td>0.07583774</td></tr>\n",
       "\t<tr><th scope=row>51-60</th><td>0.38636364</td><td>0.31216931</td></tr>\n",
       "</tbody>\n",
       "</table>\n"
      ],
      "text/latex": [
       "\\begin{tabular}{r|ll}\n",
       "  & Diamond Members & Diamond non-members\\\\\n",
       "\\hline\n",
       "\t31-40 & 0.04545455 & 0.04365079\\\\\n",
       "\t41-50 & 0.09740260 & 0.07583774\\\\\n",
       "\t51-60 & 0.38636364 & 0.31216931\\\\\n",
       "\\end{tabular}\n"
      ],
      "text/markdown": [
       "\n",
       "| <!--/--> | Diamond Members | Diamond non-members | \n",
       "|---|---|---|\n",
       "| 31-40 | 0.04545455 | 0.04365079 | \n",
       "| 41-50 | 0.09740260 | 0.07583774 | \n",
       "| 51-60 | 0.38636364 | 0.31216931 | \n",
       "\n",
       "\n"
      ],
      "text/plain": [
       "      Diamond Members Diamond non-members\n",
       "31-40 0.04545455      0.04365079         \n",
       "41-50 0.09740260      0.07583774         \n",
       "51-60 0.38636364      0.31216931         "
      ]
     },
     "metadata": {},
     "output_type": "display_data"
    }
   ],
   "source": [
    "mdat <- matrix(c(22/484, 22/504, 30/308, 43/567, 34/88, 59/189), nrow = 3, ncol = 2, byrow = TRUE , \n",
    "               dimnames = list(c(\"31-40\", \"41-50\", \"51-60\"), c(\"Diamond Members\", \"Diamond non-members\")) )\n",
    "mdat"
   ]
  },
  {
   "cell_type": "markdown",
   "metadata": {},
   "source": [
    "We see that we have to stratify across age. "
   ]
  }
 ],
 "metadata": {
  "kernelspec": {
   "display_name": "R",
   "language": "R",
   "name": "ir"
  },
  "language_info": {
   "codemirror_mode": "r",
   "file_extension": ".r",
   "mimetype": "text/x-r-source",
   "name": "R",
   "pygments_lexer": "r",
   "version": "3.5.1"
  }
 },
 "nbformat": 4,
 "nbformat_minor": 2
}
