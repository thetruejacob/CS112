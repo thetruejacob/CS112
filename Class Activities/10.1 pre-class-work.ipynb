{
 "cells": [
  {
   "cell_type": "markdown",
   "metadata": {},
   "source": [
    "Use the raw Lalonde data set to experiment with quantile regression using Koenker’s ‘quantreg’ library in R. The key command (i.e., function) is \"qr()\".\n",
    "\n",
    "Then use one of your matched/balanced data sets, and obtain quantile estimates by subtracting the same quantile (e.g., the median, or 0.5 quantile) of the matched control (Y0) distribution from the matched treatment (Y1) distribution. This is explained in the \"Diamond\" paper. For this, you will need to use the \"$mdata\" value, e.g., if your Match'ed object is mout (as it is in the help page for \"Match()\"), then you would type mout$mdata$Y to obtain the Y values for the matched data set. Note that these Y values are stacked such that that the treated units' Y values are listed first and the control units second.\n",
    "\n"
   ]
  },
  {
   "cell_type": "code",
   "execution_count": 1,
   "metadata": {},
   "outputs": [
    {
     "name": "stdout",
     "output_type": "stream",
     "text": [
      "Object `quantreg` not found.\n"
     ]
    }
   ],
   "source": [
    "?quantreg"
   ]
  }
 ],
 "metadata": {
  "kernelspec": {
   "display_name": "Python 3",
   "language": "python",
   "name": "python3"
  },
  "language_info": {
   "codemirror_mode": {
    "name": "ipython",
    "version": 3
   },
   "file_extension": ".py",
   "mimetype": "text/x-python",
   "name": "python",
   "nbconvert_exporter": "python",
   "pygments_lexer": "ipython3",
   "version": "3.6.6"
  }
 },
 "nbformat": 4,
 "nbformat_minor": 2
}
