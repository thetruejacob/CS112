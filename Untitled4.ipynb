{
 "cells": [
  {
   "cell_type": "code",
   "execution_count": 1,
   "metadata": {},
   "outputs": [
    {
     "ename": "ERROR",
     "evalue": "Error in parse(text = x, srcfile = src): <text>:3:18: unexpected input\n2: #       Install the rgenoud package\n3: install.packages(<e2>\n                    ^\n",
     "output_type": "error",
     "traceback": [
      "Error in parse(text = x, srcfile = src): <text>:3:18: unexpected input\n2: #       Install the rgenoud package\n3: install.packages(<e2>\n                    ^\nTraceback:\n"
     ]
    }
   ],
   "source": [
    "\n",
    "#\tInstall the rgenoud package\n",
    "install.packages(“rgenoud”)\n",
    "\n",
    "# \tLoad the “rgenoud” library\n",
    "library(rgenoud)\n",
    "\n",
    "# \tDefine a problem, e.g.:  coef*x = constant\n",
    "I.e., identify an x*** that satisfies this equation, for a given coef and constant\n",
    "\n",
    "# \tTransform this problem into an optimization fitness function\n",
    "#\tfunction: (coef*x - constant)2\tminimized (actually equal to zero) when x = x***\n",
    "# \tgenoud will try to MINIMIZE this function by default\n",
    "function1 <- function(x, coef, constant) { (coef*x - constant)^2 }\n",
    "\n",
    "#\tRun rgenoud, providing the name of function to optimize & number of variables (1)\n",
    "genoud(function1, nvars = 1, coef = 2, constant = 10)\n",
    "\n",
    "# \tThe answer (value of “x”) is the “par” term provided in the output\n",
    "\n",
    "\n",
    "GENETIC ALGORITHM BREAKOUT ACTIVITY\n",
    "\n",
    "# \tDefine the problem, of the form:  coef1*x^2 + coef2*x = constant, and find x\n",
    "\n",
    "# \tTransform this problem into a fitness function\n",
    "function2 <- function(x, coef1, coef2, constant) { You figure it out }\n",
    "\n",
    "#\tRun rgenoud, providing the name of function to optimize & number of variables (1)\n",
    "genoud(function2, nvars = 1, coef1 = 1, coef2 = -4, constant = -4)\n",
    "#\tThis parametrization produces the problem: x2 - 4x = -4… solve for x.\n",
    "\n",
    "#\tFor fun, repeat previous line, changing the number of generations, pop.size, etc.\n",
    "\n"
   ]
  }
 ],
 "metadata": {
  "kernelspec": {
   "display_name": "R",
   "language": "R",
   "name": "ir"
  },
  "language_info": {
   "codemirror_mode": "r",
   "file_extension": ".r",
   "mimetype": "text/x-r-source",
   "name": "R",
   "pygments_lexer": "r",
   "version": "3.5.1"
  }
 },
 "nbformat": 4,
 "nbformat_minor": 2
}
