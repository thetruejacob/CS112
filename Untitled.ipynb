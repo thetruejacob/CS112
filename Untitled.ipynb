{
 "cells": [
  {
   "cell_type": "code",
   "execution_count": 13,
   "metadata": {},
   "outputs": [
    {
     "name": "stderr",
     "output_type": "stream",
     "text": [
      "The following objects are masked from lalonde (pos = 3):\n",
      "\n",
      "    age, black, educ, hisp, married, nodegr, re74, re75, re78, treat,\n",
      "    u74, u75\n",
      "\n",
      "The following objects are masked from lalonde (pos = 4):\n",
      "\n",
      "    age, black, educ, hisp, married, nodegr, re74, re75, re78, treat,\n",
      "    u74, u75\n",
      "\n"
     ]
    },
    {
     "name": "stdout",
     "output_type": "stream",
     "text": [
      "\n",
      "Estimate...  1792 \n",
      "SE.........  694.37 \n",
      "T-stat.....  2.5807 \n",
      "p.val......  0.0098589 \n",
      "\n",
      "Original number of observations..............  445 \n",
      "Original number of treated obs...............  185 \n",
      "Matched number of observations...............  185 \n",
      "Matched number of observations  (unweighted).  185 \n",
      "\n"
     ]
    }
   ],
   "source": [
    "attach(lalonde)\n",
    "BalanceMat = cbind(age, I(age^2), educ, I(educ^2), black, hisp, \n",
    "                   married, nodegr, re74, I(re74^2), re75, I(re75^2),\n",
    "                  u74, u75, I(re74*re75), I(age*nodegr), I(educ*re74), I(educ*75))\n",
    "gen1 = GenMatch(Tr = lalonde$treat, X = cbind(age, educ, black, hisp, married, nodegr, re74, re75, u74, u75),\n",
    "               BalanceMat = BalanceMat, pop.size = 50, data.type.int = FALSE, print = 0, replace = FALSE)\n",
    "mgen1 = Match(Y = lalonde$re78, Tr = lalonde$treat, \n",
    "              X = cbind(age, educ, black, hisp, married, nodegr, re74, re75, u74, u75),\n",
    "             Weight.matrix = gen1, replace = FALSE)\n",
    "summary(mgen1)"
   ]
  }
 ],
 "metadata": {
  "kernelspec": {
   "display_name": "R",
   "language": "R",
   "name": "ir"
  },
  "language_info": {
   "codemirror_mode": "r",
   "file_extension": ".r",
   "mimetype": "text/x-r-source",
   "name": "R",
   "pygments_lexer": "r",
   "version": "3.5.1"
  }
 },
 "nbformat": 4,
 "nbformat_minor": 2
}
