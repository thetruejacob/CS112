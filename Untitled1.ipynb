{
 "cells": [
  {
   "cell_type": "markdown",
   "metadata": {},
   "source": [
    "PART I\n",
    "\n",
    "The original Lalonde RCT data is here:\n",
    "read.dta(\"http://www.nber.org/~rdehejia/data/nsw.dta\")\n",
    "\n",
    "If you download this data (), and you take the diff in mean(re78) for treatment group MINUS control group, you get $886 as the experimental treatment effect:\n",
    "library(foreign)\n",
    "\n",
    "RCT_data <- read.dta(\"http://www.nber.org/~rdehejia/data/nsw.dta\")\n",
    "\n",
    "RCT_diffmeans <- \tmean(RCT_data$re78[RCT_data$treat == 1]) - \n",
    "mean(RCT_data$re78[RCT_data$treat == 0])\n",
    "print(RCT_diffmeans)\n",
    "summary(lm(RCT_data$re78 ~ RCT_data$treat)) # note the coef on “treat”\n",
    "confint(lm(RCT_data$re78 ~ RCT_data$treat)) # note the confint on “treat”\n",
    "PART II\n",
    "The fake observational data is here: https://tinyurl.com/y92p6p9f\n",
    "\n",
    "This is the treatment group from the RCT combined with survey data: the so-called “Lalonde CPS sample”. Obtain this data by downloading it (a file called “dw_data.csv”) to the working directory. Type:\n",
    "foo <- read.csv(\"dw_data.csv\")\n",
    "\n",
    "Check it out... type: \n",
    "dim(foo)\n",
    "\n",
    "Now load the Matching library and check out the help file…\n",
    "library(Matching)\n",
    "\n",
    "Open the documentation for the \"Match()\" function:\n",
    "?Match\n",
    "\n",
    "Execute the documentation code EXCEPT RUN IT ON YOUR “FOO” DATA, NOT “lalonde”. NOTE THE TREATMENT EFFECT ESTIMATE. How does it compare to the “true” benchmark estimate from Part I? What’s the p-value?\n",
    "\n",
    "THEN--change the propensity score model dramatically, several different times, and see if the treatment effect changes. \n",
    "\n",
    "Each time you try a different propensity score, check the “balance” over the underlying variables you are trying to control for using the MatchBalance() function… Keep track of your results in the Google Doc.\n"
   ]
  },
  {
   "cell_type": "code",
   "execution_count": 1,
   "metadata": {},
   "outputs": [
    {
     "ename": "SyntaxError",
     "evalue": "invalid syntax (<ipython-input-1-b858ef84a466>, line 5)",
     "output_type": "error",
     "traceback": [
      "\u001b[0;36m  File \u001b[0;32m\"<ipython-input-1-b858ef84a466>\"\u001b[0;36m, line \u001b[0;32m5\u001b[0m\n\u001b[0;31m    RCT_diffmeans <- \tmean(RCT_data$re78[RCT_data$treat == 1]) -\u001b[0m\n\u001b[0m                     \t             ^\u001b[0m\n\u001b[0;31mSyntaxError\u001b[0m\u001b[0;31m:\u001b[0m invalid syntax\n"
     ]
    }
   ],
   "source": []
  },
  {
   "cell_type": "code",
   "execution_count": null,
   "metadata": {},
   "outputs": [],
   "source": []
  }
 ],
 "metadata": {
  "kernelspec": {
   "display_name": "Python 3",
   "language": "python",
   "name": "python3"
  },
  "language_info": {
   "codemirror_mode": {
    "name": "ipython",
    "version": 3
   },
   "file_extension": ".py",
   "mimetype": "text/x-python",
   "name": "python",
   "nbconvert_exporter": "python",
   "pygments_lexer": "ipython3",
   "version": "3.6.6"
  }
 },
 "nbformat": 4,
 "nbformat_minor": 2
}
