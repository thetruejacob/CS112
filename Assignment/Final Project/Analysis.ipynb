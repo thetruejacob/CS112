{
 "cells": [
  {
   "cell_type": "code",
   "execution_count": 18,
   "metadata": {},
   "outputs": [],
   "source": [
    "library(foreign) ; library(tsModel) ; library(lmtest) ; library(Epi)\n",
    "library(splines) ; library(grid); library(vcd)\n",
    "library (dplyr) ; library (xtable)\n",
    "library(sandwich) ; library(lmtest)\n",
    "\n",
    "alldata <- read.csv(\"2001_Table1ALL.csv\")\n",
    "alldata$Rate <- alldata$Deaths/alldata$StdPop"
   ]
  },
  {
   "cell_type": "markdown",
   "metadata": {},
   "source": [
    "MEAN MONTHLY COUNTS -- UNADJUSTED AND PER 100,000 POPULATION"
   ]
  },
  {
   "cell_type": "code",
   "execution_count": 19,
   "metadata": {},
   "outputs": [
    {
     "data": {
      "text/html": [
       "81.9259259259259"
      ],
      "text/latex": [
       "81.9259259259259"
      ],
      "text/markdown": [
       "81.9259259259259"
      ],
      "text/plain": [
       "[1] 81.92593"
      ]
     },
     "metadata": {},
     "output_type": "display_data"
    },
    {
     "data": {
      "text/html": [
       "99.2252252252252"
      ],
      "text/latex": [
       "99.2252252252252"
      ],
      "text/markdown": [
       "99.2252252252252"
      ],
      "text/plain": [
       "[1] 99.22523"
      ]
     },
     "metadata": {},
     "output_type": "display_data"
    },
    {
     "data": {
      "text/html": [
       "189.4125"
      ],
      "text/latex": [
       "189.4125"
      ],
      "text/markdown": [
       "189.4125"
      ],
      "text/plain": [
       "[1] 189.4125"
      ]
     },
     "metadata": {},
     "output_type": "display_data"
    },
    {
     "data": {
      "text/html": [
       "182.738738738739"
      ],
      "text/latex": [
       "182.738738738739"
      ],
      "text/markdown": [
       "182.738738738739"
      ],
      "text/plain": [
       "[1] 182.7387"
      ]
     },
     "metadata": {},
     "output_type": "display_data"
    },
    {
     "data": {
      "text/html": [
       "0.491316599884093"
      ],
      "text/latex": [
       "0.491316599884093"
      ],
      "text/markdown": [
       "0.491316599884093"
      ],
      "text/plain": [
       "[1] 0.4913166"
      ]
     },
     "metadata": {},
     "output_type": "display_data"
    },
    {
     "data": {
      "text/html": [
       "0.525503261259404"
      ],
      "text/latex": [
       "0.525503261259404"
      ],
      "text/markdown": [
       "0.525503261259404"
      ],
      "text/plain": [
       "[1] 0.5255033"
      ]
     },
     "metadata": {},
     "output_type": "display_data"
    },
    {
     "data": {
      "text/html": [
       "0.409092425619011"
      ],
      "text/latex": [
       "0.409092425619011"
      ],
      "text/markdown": [
       "0.409092425619011"
      ],
      "text/plain": [
       "[1] 0.4090924"
      ]
     },
     "metadata": {},
     "output_type": "display_data"
    },
    {
     "data": {
      "text/html": [
       "0.383108439020109"
      ],
      "text/latex": [
       "0.383108439020109"
      ],
      "text/markdown": [
       "0.383108439020109"
      ],
      "text/plain": [
       "[1] 0.3831084"
      ]
     },
     "metadata": {},
     "output_type": "display_data"
    }
   ],
   "source": [
    "### HOMICIDES ###\n",
    "\n",
    "# Subset Data\n",
    "allhom <-subset(alldata, Cause==\"AllHomicide\")\n",
    "FloridaHomOrig <- subset(allhom, Treatment ==1 & OrigData ==1)\n",
    "ControlHomOrig <- subset(allhom, Treatment ==0 & OrigData ==1)\n",
    "\n",
    "# Mean Monthly Counts - Original\n",
    "mean(FloridaHomOrig$Deaths[FloridaHomOrig$Effective==0]) ##Florida before\n",
    "mean(FloridaHomOrig$Deaths[FloridaHomOrig$Effective==1]) ##Florida after\n",
    "mean(ControlHomOrig$Deaths[ControlHomOrig$Effective==0]) ##Control States before\n",
    "mean(ControlHomOrig$Deaths[ControlHomOrig$Effective==1]) ##Control States after\n",
    "\n",
    "# Mean Rate Counts \n",
    "mean(FloridaHomOrig$Rate[FloridaHomOrig$Effective==0]) #Florida Before\n",
    "mean(FloridaHomOrig$Rate[FloridaHomOrig$Effective==1]) #Florida After\n",
    "mean(ControlHomOrig$Rate[ControlHomOrig$Effective==0]) ##Control States before\n",
    "mean(ControlHomOrig$Rate[ControlHomOrig$Effective==1]) ##Control States after"
   ]
  },
  {
   "cell_type": "code",
   "execution_count": 3,
   "metadata": {},
   "outputs": [
    {
     "data": {
      "text/html": [
       "49.0617283950617"
      ],
      "text/latex": [
       "49.0617283950617"
      ],
      "text/markdown": [
       "49.0617283950617"
      ],
      "text/plain": [
       "[1] 49.06173"
      ]
     },
     "metadata": {},
     "output_type": "display_data"
    },
    {
     "data": {
      "text/html": [
       "69.2972972972973"
      ],
      "text/latex": [
       "69.2972972972973"
      ],
      "text/markdown": [
       "69.2972972972973"
      ],
      "text/plain": [
       "[1] 69.2973"
      ]
     },
     "metadata": {},
     "output_type": "display_data"
    },
    {
     "data": {
      "text/html": [
       "116.333333333333"
      ],
      "text/latex": [
       "116.333333333333"
      ],
      "text/markdown": [
       "116.333333333333"
      ],
      "text/plain": [
       "[1] 116.3333"
      ]
     },
     "metadata": {},
     "output_type": "display_data"
    },
    {
     "data": {
      "text/html": [
       "119.135135135135"
      ],
      "text/latex": [
       "119.135135135135"
      ],
      "text/markdown": [
       "119.135135135135"
      ],
      "text/plain": [
       "[1] 119.1351"
      ]
     },
     "metadata": {},
     "output_type": "display_data"
    },
    {
     "data": {
      "text/html": [
       "0.293557137608928"
      ],
      "text/latex": [
       "0.293557137608928"
      ],
      "text/markdown": [
       "0.293557137608928"
      ],
      "text/plain": [
       "[1] 0.2935571"
      ]
     },
     "metadata": {},
     "output_type": "display_data"
    },
    {
     "data": {
      "text/html": [
       "0.366814223457561"
      ],
      "text/latex": [
       "0.366814223457561"
      ],
      "text/markdown": [
       "0.366814223457561"
      ],
      "text/plain": [
       "[1] 0.3668142"
      ]
     },
     "metadata": {},
     "output_type": "display_data"
    },
    {
     "data": {
      "text/html": [
       "0.251205339237135"
      ],
      "text/latex": [
       "0.251205339237135"
      ],
      "text/markdown": [
       "0.251205339237135"
      ],
      "text/plain": [
       "[1] 0.2512053"
      ]
     },
     "metadata": {},
     "output_type": "display_data"
    },
    {
     "data": {
      "text/html": [
       "0.249748511520412"
      ],
      "text/latex": [
       "0.249748511520412"
      ],
      "text/markdown": [
       "0.249748511520412"
      ],
      "text/plain": [
       "[1] 0.2497485"
      ]
     },
     "metadata": {},
     "output_type": "display_data"
    }
   ],
   "source": [
    "### FIREARM HOMICIDE ###\n",
    "\n",
    "# Subset Data\n",
    "firehom <- subset(alldata, Cause==\"FirearmHomicide\")\n",
    "FFireHomOrig <- subset(firehom, Treatment ==1 & OrigData ==1)\n",
    "CSFireHomOrig <- subset(firehom, Treatment ==0 & OrigData ==1)\n",
    "\n",
    "# Mean Monthly Counts\n",
    "mean(FFireHomOrig$Deaths[FFireHomOrig$Effective==0]) ##Florida before\n",
    "mean(FFireHomOrig$Deaths[FFireHomOrig$Effective==1]) ##Florida after\n",
    "mean(CSFireHomOrig$Deaths[CSFireHomOrig$Effective==0]) ##Control States before\n",
    "mean(CSFireHomOrig$Deaths[CSFireHomOrig$Effective==1]) ##Control States after\n",
    "\n",
    "# Mean Rate Counts\n",
    "mean(FFireHomOrig$Rate[FFireHomOrig$Effective==0]) #Florida Before\n",
    "mean(FFireHomOrig$Rate[FFireHomOrig$Effective==1]) # Florida After\n",
    "mean(CSFireHomOrig$Rate[CSFireHomOrig$Effective==0]) ##Control States before\n",
    "mean(CSFireHomOrig$Rate[CSFireHomOrig$Effective==1]) ##Control States after"
   ]
  },
  {
   "cell_type": "code",
   "execution_count": 4,
   "metadata": {},
   "outputs": [
    {
     "data": {
      "text/html": [
       "188.259259259259"
      ],
      "text/latex": [
       "188.259259259259"
      ],
      "text/markdown": [
       "188.259259259259"
      ],
      "text/plain": [
       "[1] 188.2593"
      ]
     },
     "metadata": {},
     "output_type": "display_data"
    },
    {
     "data": {
      "text/html": [
       "232.522522522523"
      ],
      "text/latex": [
       "232.522522522523"
      ],
      "text/markdown": [
       "232.522522522523"
      ],
      "text/plain": [
       "[1] 232.5225"
      ]
     },
     "metadata": {},
     "output_type": "display_data"
    },
    {
     "data": {
      "text/html": [
       "314.185185185185"
      ],
      "text/latex": [
       "314.185185185185"
      ],
      "text/markdown": [
       "314.185185185185"
      ],
      "text/plain": [
       "[1] 314.1852"
      ]
     },
     "metadata": {},
     "output_type": "display_data"
    },
    {
     "data": {
      "text/html": [
       "382.207207207207"
      ],
      "text/latex": [
       "382.207207207207"
      ],
      "text/markdown": [
       "382.207207207207"
      ],
      "text/plain": [
       "[1] 382.2072"
      ]
     },
     "metadata": {},
     "output_type": "display_data"
    },
    {
     "data": {
      "text/html": [
       "1.12743176190427"
      ],
      "text/latex": [
       "1.12743176190427"
      ],
      "text/markdown": [
       "1.12743176190427"
      ],
      "text/plain": [
       "[1] 1.127432"
      ]
     },
     "metadata": {},
     "output_type": "display_data"
    },
    {
     "data": {
      "text/html": [
       "1.22809317076272"
      ],
      "text/latex": [
       "1.22809317076272"
      ],
      "text/markdown": [
       "1.22809317076272"
      ],
      "text/plain": [
       "[1] 1.228093"
      ]
     },
     "metadata": {},
     "output_type": "display_data"
    },
    {
     "data": {
      "text/html": [
       "0.678630690040583"
      ],
      "text/latex": [
       "0.678630690040583"
      ],
      "text/markdown": [
       "0.678630690040583"
      ],
      "text/plain": [
       "[1] 0.6786307"
      ]
     },
     "metadata": {},
     "output_type": "display_data"
    },
    {
     "data": {
      "text/html": [
       "0.799885630448686"
      ],
      "text/latex": [
       "0.799885630448686"
      ],
      "text/markdown": [
       "0.799885630448686"
      ],
      "text/plain": [
       "[1] 0.7998856"
      ]
     },
     "metadata": {},
     "output_type": "display_data"
    }
   ],
   "source": [
    "### SUICIDES ###\n",
    "\n",
    "# Subset Data\n",
    "allsuicides <- subset(alldata, Cause==\"Suicide\")\n",
    "Florida.SuiOrig <- subset(allsuicides, Treatment ==1 & OrigData ==1)\n",
    "CS.SuiOrig <- subset(allsuicides, Treatment ==0 & OrigData ==1)\n",
    "\n",
    "# Mean Monthly Counts - All Suicide\n",
    "mean(Florida.SuiOrig$Deaths[Florida.SuiOrig$Effective==0]) ##Florida before\n",
    "mean(Florida.SuiOrig$Deaths[Florida.SuiOrig$Effective==1]) ##Florida after\n",
    "mean(CS.SuiOrig$Deaths[CS.SuiOrig$Effective==0]) ##Control States before\n",
    "mean(CS.SuiOrig$Deaths[CS.SuiOrig$Effective==1]) ##Control States after\n",
    "\n",
    "# Mean Rate Counts - All Suicide\n",
    "mean(Florida.SuiOrig$Rate[Florida.SuiOrig$Effective==0]) #Florida Before\n",
    "mean(Florida.SuiOrig$Rate[Florida.SuiOrig$Effective==1]) # Florida After\n",
    "mean(CS.SuiOrig$Rate[CS.SuiOrig$Effective==0]) ##Control States before\n",
    "mean(CS.SuiOrig$Rate[CS.SuiOrig$Effective==1]) ##Control States after"
   ]
  },
  {
   "cell_type": "code",
   "execution_count": 5,
   "metadata": {},
   "outputs": [
    {
     "data": {
      "text/html": [
       "99.320987654321"
      ],
      "text/latex": [
       "99.320987654321"
      ],
      "text/markdown": [
       "99.320987654321"
      ],
      "text/plain": [
       "[1] 99.32099"
      ]
     },
     "metadata": {},
     "output_type": "display_data"
    },
    {
     "data": {
      "text/html": [
       "119.45045045045"
      ],
      "text/latex": [
       "119.45045045045"
      ],
      "text/markdown": [
       "119.45045045045"
      ],
      "text/plain": [
       "[1] 119.4505"
      ]
     },
     "metadata": {},
     "output_type": "display_data"
    },
    {
     "data": {
      "text/html": [
       "129.308641975309"
      ],
      "text/latex": [
       "129.308641975309"
      ],
      "text/markdown": [
       "129.308641975309"
      ],
      "text/plain": [
       "[1] 129.3086"
      ]
     },
     "metadata": {},
     "output_type": "display_data"
    },
    {
     "data": {
      "text/html": [
       "143.189189189189"
      ],
      "text/latex": [
       "143.189189189189"
      ],
      "text/markdown": [
       "143.189189189189"
      ],
      "text/plain": [
       "[1] 143.1892"
      ]
     },
     "metadata": {},
     "output_type": "display_data"
    },
    {
     "data": {
      "text/html": [
       "0.595775987114373"
      ],
      "text/latex": [
       "0.595775987114373"
      ],
      "text/markdown": [
       "0.595775987114373"
      ],
      "text/plain": [
       "[1] 0.595776"
      ]
     },
     "metadata": {},
     "output_type": "display_data"
    },
    {
     "data": {
      "text/html": [
       "0.630700658393"
      ],
      "text/latex": [
       "0.630700658393"
      ],
      "text/markdown": [
       "0.630700658393"
      ],
      "text/plain": [
       "[1] 0.6307007"
      ]
     },
     "metadata": {},
     "output_type": "display_data"
    },
    {
     "data": {
      "text/html": [
       "0.342447743129871"
      ],
      "text/latex": [
       "0.342447743129871"
      ],
      "text/markdown": [
       "0.342447743129871"
      ],
      "text/plain": [
       "[1] 0.3424477"
      ]
     },
     "metadata": {},
     "output_type": "display_data"
    },
    {
     "data": {
      "text/html": [
       "0.367392337830655"
      ],
      "text/latex": [
       "0.367392337830655"
      ],
      "text/markdown": [
       "0.367392337830655"
      ],
      "text/plain": [
       "[1] 0.3673923"
      ]
     },
     "metadata": {},
     "output_type": "display_data"
    }
   ],
   "source": [
    "### FIREARM SUICIDES ###\n",
    "\n",
    "# Subset Data\n",
    "FASuic <- subset(alldata, Cause==\"FirearmSuicide\")\n",
    "FFASuicOrig <- subset(FASuic, Treatment ==1 & OrigData ==1)\n",
    "CSFASuicOrig <- subset(FASuic, Treatment ==0 & OrigData ==1)\n",
    "\n",
    "# Mean Monthly Counts - Firearm Suicide\n",
    "mean(FFASuicOrig$Deaths[FFASuicOrig$Effective==0]) ##Florida before\n",
    "mean(FFASuicOrig$Deaths[FFASuicOrig$Effective==1]) ##Florida after\n",
    "mean(CSFASuicOrig$Deaths[CSFASuicOrig$Effective==0]) ##Control States before\n",
    "mean(CSFASuicOrig$Deaths[CSFASuicOrig$Effective==1]) ##Control States after\n",
    "\n",
    "# Mean Rate Counts - Firearm Suicide\n",
    "mean(FFASuicOrig$Rate[FFASuicOrig$Effective==0]) #Florida Before\n",
    "mean(FFASuicOrig$Rate[FFASuicOrig$Effective==1]) # Florida After\n",
    "mean(CSFASuicOrig$Rate[CSFASuicOrig$Effective==0]) ##Control States before\n",
    "mean(CSFASuicOrig$Rate[CSFASuicOrig$Effective==1]) ##Control States after"
   ]
  },
  {
   "cell_type": "markdown",
   "metadata": {},
   "source": [
    "TESTS FOR SERIAL AUTOCORRELATION"
   ]
  },
  {
   "cell_type": "code",
   "execution_count": 7,
   "metadata": {},
   "outputs": [
    {
     "ename": "ERROR",
     "evalue": "Error in harmonic(MonthNo, 2, 12): could not find function \"harmonic\"\n",
     "output_type": "error",
     "traceback": [
      "Error in harmonic(MonthNo, 2, 12): could not find function \"harmonic\"\nTraceback:\n",
      "1. glm(Deaths ~ offset(log(StdPop)) + Effective + Time + harmonic(MonthNo, \n .     2, 12), family = quasipoisson, FloridaHomOrig)",
      "2. eval(mf, parent.frame())",
      "3. eval(mf, parent.frame())",
      "4. stats::model.frame(formula = Deaths ~ offset(log(StdPop)) + Effective + \n .     Time + harmonic(MonthNo, 2, 12), data = FloridaHomOrig, drop.unused.levels = TRUE)",
      "5. model.frame.default(formula = Deaths ~ offset(log(StdPop)) + \n .     Effective + Time + harmonic(MonthNo, 2, 12), data = FloridaHomOrig, \n .     drop.unused.levels = TRUE)",
      "6. eval(predvars, data, env)",
      "7. eval(predvars, data, env)"
     ]
    }
   ],
   "source": [
    "# Homicide\n",
    "BGtesthomF<- glm(Deaths ~ offset(log(StdPop)) + Effective + Time + harmonic(MonthNo,2,12), \n",
    "                 family=quasipoisson, FloridaHomOrig) \n",
    "bgtest(BGtesthomF)\n",
    "bgtest(BGtesthomF, order=12)\n",
    "##Result - Florida no\n",
    "BGtesthomCS<- glm(Deaths ~ offset(log(StdPop)) + Effective + Time + harmonic(MonthNo,2,12), \n",
    "                  family=quasipoisson, ControlHomOrig) \n",
    "bgtest(BGtesthomCS)\n",
    "bgtest(BGtesthomCS, order=12)\n",
    "##Result - CS yes\n",
    "\n",
    "\n",
    "# Homicide by Firearm\n",
    "BGtestfirehomF<- glm(Deaths ~ offset(log(StdPop)) + Effective + Time + harmonic(MonthNo,2,12), \n",
    "                     family=quasipoisson, FFireHomOrig) \n",
    "bgtest(BGtestfirehomF)\n",
    "BGtestfirehomCS<- glm(Deaths ~ offset(log(StdPop)) + Effective + Time + harmonic(MonthNo,2,12), \n",
    "                      family=quasipoisson, CSFireHomOrig) \n",
    "bgtest(BGtestfirehomCS)\n",
    "##Result - CS and florida yes\n",
    "\n",
    "\n",
    "# Suicide\n",
    "BGtestsuicideF<- glm(Deaths ~ offset(log(StdPop)) + Effective + Time + harmonic(MonthNo,2,12), \n",
    "                     family=quasipoisson, Florida.SuiOrig) \n",
    "bgtest(BGtestsuicideF)\n",
    "bgtest(BGtestsuicideF, order=12)\n",
    "BGtestsuicideCS<- glm(Deaths ~ offset(log(StdPop)) + Effective + Time + harmonic(MonthNo,2,12), \n",
    "                      family=quasipoisson, CS.SuiOrig) \n",
    "bgtest(BGtestsuicideCS)\n",
    "bgtest(BGtestsuicideCS, order=12)\n",
    "##Result - CS and florida yes\n",
    "\n",
    "\n",
    "## Suicide by Firearm\n",
    "# Test for autocorrelation for Firearm Suicide\n",
    "BGtestFsuicideF<- glm(Deaths ~ offset(log(StdPop)) + Effective + Time, \n",
    "                      family=quasipoisson, FFASuicOrig) \n",
    "bgtest(BGtestFsuicideF, order=12)\n",
    "\n",
    "BGtestFsuicideCS<- glm(Deaths ~ offset(log(StdPop)) + Effective + Time + harmonic(MonthNo,2,12), \n",
    "                       family=quasipoisson, CSFASuicOrig) \n",
    "bgtest(BGtestFsuicideCS, order=12)"
   ]
  }
 ],
 "metadata": {
  "kernelspec": {
   "display_name": "R",
   "language": "R",
   "name": "ir"
  },
  "language_info": {
   "codemirror_mode": "r",
   "file_extension": ".r",
   "mimetype": "text/x-r-source",
   "name": "R",
   "pygments_lexer": "r",
   "version": "3.5.1"
  }
 },
 "nbformat": 4,
 "nbformat_minor": 2
}
