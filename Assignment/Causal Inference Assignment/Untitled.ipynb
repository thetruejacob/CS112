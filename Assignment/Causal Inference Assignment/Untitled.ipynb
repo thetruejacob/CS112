{
 "cells": [
  {
   "cell_type": "markdown",
   "metadata": {},
   "source": [
    "# Debugging "
   ]
  },
  {
   "cell_type": "markdown",
   "metadata": {},
   "source": [
    "(1) Debugging--in the 3 cases below (a through c), identify the major coding error in each case and explain how to fix it, in 1-2 \n",
    "sentences. DO NOT actually copy/paste corrected code:\n",
    "\n",
    "- https://gist.github.com/diamonaj/2e5d5ba5226b7b9760f5d1bf1e7bf765\n",
    "- https://gist.github.com/diamonaj/3b6bc83d040098486634184d99fc4c55\n",
    "- https://gist.github.com/diamonaj/a88cb40132ed8584e5182b585e1c84c8"
   ]
  },
  {
   "cell_type": "code",
   "execution_count": 2,
   "metadata": {},
   "outputs": [
    {
     "ename": "SyntaxError",
     "evalue": "invalid syntax (<ipython-input-2-5a11d45d897f>, line 3)",
     "output_type": "error",
     "traceback": [
      "\u001b[0;36m  File \u001b[0;32m\"<ipython-input-2-5a11d45d897f>\"\u001b[0;36m, line \u001b[0;32m3\u001b[0m\n\u001b[0;31m    mb <- MatchBalance(treat ~ age + educ + black + hisp + married + nodegr + u74 + u75 + re75+ re74+ I(re74*re75), match.out=genout, nboots=500)\u001b[0m\n\u001b[0m                             ^\u001b[0m\n\u001b[0;31mSyntaxError\u001b[0m\u001b[0;31m:\u001b[0m invalid syntax\n"
     ]
    }
   ],
   "source": [
    "genout <- GenMatch(Tr=treat, X=X, BalanceMatrix=BalanceMat)\n",
    "summary(mout)\n",
    "mb <- MatchBalance(treat ~ age + educ + black + hisp + married + nodegr + u74 + u75 + re75+ re74+ I(re74*re75), match.out=genout, nboots=500)"
   ]
  },
  {
   "cell_type": "code",
   "execution_count": null,
   "metadata": {},
   "outputs": [],
   "source": [
    "genout <- GenMatch(Tr=treat, X=X, BalanceMatrix=BalanceMat, estimand=\"ATE\", M=1, pop.size=16, max.generations=10, wait.generations=1)\n",
    "\n",
    "#The outcome variable\n",
    "Y=re78/1000\n",
    "\n",
    "#\n",
    "# Now that GenMatch() has found the optimal weights, let's estimate\n",
    "# our causal effect of interest using those weights\n",
    "#\n",
    "mout <- Match(Y=Y, Tr=treat, X=X, Weight.matrix=genout)\n",
    "summary(mout)\n",
    "\n",
    "#                        \n",
    "#Let's determine if balance has actually been obtained on the variables of interest\n",
    "#                        \n",
    "mb <- MatchBalance(treat~age +educ+black+ hisp+ married+ nodegr+ u74+ u75+\n",
    "                   re75+ re74+ I(re74*re75),\n",
    "match.out=mout, nboots=500)"
   ]
  },
  {
   "cell_type": "code",
   "execution_count": null,
   "metadata": {},
   "outputs": [],
   "source": [
    "genout <- GenMatch(Tr=treat, X=X, BalanceMatrix=BalanceMat, estimand = \"ATE\")\n",
    "\n",
    "#The outcome variable\n",
    "Y=re78/1000\n",
    "\n",
    "#\n",
    "# Now that GenMatch() has found the optimal weights, let's estimate\n",
    "# our causal effect of interest using those weights\n",
    "#\n",
    "mout <- Match(Y=Y, Tr=treat, X=X, estimand=\"ATE\", Weight.matrix=genout, M = 2)\n",
    "summary(mout)\n",
    "\n",
    "#                        \n",
    "#Let's determine if balance has actually been obtained on the variables of interest\n",
    "#                        \n",
    "mb <- MatchBalance(treat~age +educ+black+ hisp+ married+ nodegr+ u74+ u75+\n",
    "                   re75+ re74+ I(re74*re75),\n",
    "match.out=mout, nboots=500)"
   ]
  },
  {
   "cell_type": "markdown",
   "metadata": {},
   "source": []
  }
 ],
 "metadata": {
  "kernelspec": {
   "display_name": "Python 3",
   "language": "python",
   "name": "python3"
  },
  "language_info": {
   "codemirror_mode": {
    "name": "ipython",
    "version": 3
   },
   "file_extension": ".py",
   "mimetype": "text/x-python",
   "name": "python",
   "nbconvert_exporter": "python",
   "pygments_lexer": "ipython3",
   "version": "3.6.6"
  }
 },
 "nbformat": 4,
 "nbformat_minor": 2
}
